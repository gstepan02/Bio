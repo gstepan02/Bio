{
  "cells": [
    {
      "cell_type": "code",
      "execution_count": 123,
      "metadata": {
        "id": "kUB8n-xeno9l"
      },
      "outputs": [],
      "source": [
        "import pandas as pd\n",
        "import numpy as np\n",
        "import torch\n",
        "import torch.nn as nn\n",
        "from torch.utils.data import DataLoader, TensorDataset\n",
        "from sklearn.model_selection import train_test_split\n",
        "from sklearn.impute import SimpleImputer\n",
        "from sklearn.preprocessing import StandardScaler\n",
        "from sklearn.preprocessing import Normalizer\n",
        "\n",
        "device = torch.device(\"cuda\" if torch.cuda.is_available() else \"cpu\")"
      ]
    },
    {
      "cell_type": "code",
      "execution_count": 124,
      "metadata": {
        "colab": {
          "base_uri": "https://localhost:8080/"
        },
        "id": "wlBOG08nnvmA",
        "outputId": "f41cdafa-9f2d-4734-d151-ac95a867a1ea"
      },
      "outputs": [
        {
          "name": "stdout",
          "output_type": "stream",
          "text": [
            "Data is loaded\n"
          ]
        }
      ],
      "source": [
        "# Loading data from a CSV file\n",
        "data = pd.read_csv('sensitivity_secret_data.csv')\n",
        "print('Data is loaded')"
      ]
    },
    {
      "cell_type": "code",
      "execution_count": 125,
      "metadata": {},
      "outputs": [
        {
          "name": "stdout",
          "output_type": "stream",
          "text": [
            "Target sensitivity and features are loaded\n"
          ]
        }
      ],
      "source": [
        "# Extract features and target sensitivity from data\n",
        "features = data.iloc[:, 3:28370]\n",
        "sensitivity = data.iloc[:, 2].values\n",
        "cell_line = data.iloc[:, 0]\n",
        "drug_id = data.iloc[:, 1]\n",
        "print('Target sensitivity and features are loaded')"
      ]
    },
    {
      "cell_type": "code",
      "execution_count": 126,
      "metadata": {},
      "outputs": [],
      "source": [
        "# Removing columns with empty or NaN values\n",
        "features = features.dropna(axis=1, how='all')\n",
        "all_zeros = (data == 0).all()\n",
        "columns_to_remove = all_zeros[all_zeros].index\n",
        "features = features.drop(columns=columns_to_remove)"
      ]
    },
    {
      "cell_type": "code",
      "execution_count": 127,
      "metadata": {},
      "outputs": [],
      "source": [
        "# Fill empty cells with mean value (now this is NumPy Array)\n",
        "imputer = SimpleImputer(missing_values=np.nan, strategy='mean')\n",
        "features = imputer.fit_transform(features)"
      ]
    },
    {
      "cell_type": "code",
      "execution_count": 128,
      "metadata": {},
      "outputs": [],
      "source": [
        "# Standardization\n",
        "ss = StandardScaler()\n",
        "features = ss.fit_transform(features)"
      ]
    },
    {
      "cell_type": "code",
      "execution_count": 129,
      "metadata": {},
      "outputs": [],
      "source": [
        "# Normalization\n",
        "norm = Normalizer()\n",
        "features = norm.fit_transform(features)"
      ]
    },
    {
      "cell_type": "code",
      "execution_count": 130,
      "metadata": {},
      "outputs": [],
      "source": [
        "#Saving preprocessing data (optional)\n",
        "np.savetxt (\"sensitivity_features_preprocessing.csv\", features, delimiter=\" , \", fmt=\" %.3f \")"
      ]
    },
    {
      "cell_type": "code",
      "execution_count": 131,
      "metadata": {},
      "outputs": [
        {
          "name": "stdout",
          "output_type": "stream",
          "text": [
            "Dataset is splited\n"
          ]
        }
      ],
      "source": [
        "# Dividing data into training and test sets\n",
        "X_train, X_test, y_train, y_test = train_test_split(features, sensitivity, test_size=0.2, random_state=42)\n",
        "print('Dataset is splited')"
      ]
    },
    {
      "cell_type": "code",
      "execution_count": null,
      "metadata": {},
      "outputs": [],
      "source": [
        "print(\"X_train shape:\", X_train.shape)\n",
        "print(\"X_test shape:\", X_test.shape)\n",
        "print(\"y_train shape:\", y_train.shape)\n",
        "print(\"y_test shape:\", y_test.shape)"
      ]
    },
    {
      "cell_type": "code",
      "execution_count": 133,
      "metadata": {},
      "outputs": [
        {
          "name": "stdout",
          "output_type": "stream",
          "text": [
            "Tensors are ready\n"
          ]
        }
      ],
      "source": [
        "# Convert data to PyTorch tensors\n",
        "X_train = torch.tensor(X_train, dtype=torch.float32)\n",
        "X_test = torch.tensor(X_test, dtype=torch.float32)\n",
        "y_train = torch.tensor(y_train, dtype=torch.float32).reshape(-1, 1)\n",
        "y_test = torch.tensor(y_test, dtype=torch.float32).reshape(-1, 1)\n",
        "print('Tensors are ready')"
      ]
    },
    {
      "cell_type": "code",
      "execution_count": 134,
      "metadata": {
        "colab": {
          "base_uri": "https://localhost:8080/"
        },
        "id": "UY6gWz7CofSE",
        "outputId": "2907893b-08c8-43cf-a0fc-80fd2a4fe124"
      },
      "outputs": [
        {
          "name": "stdout",
          "output_type": "stream",
          "text": [
            "Dataloaders are ready\n"
          ]
        }
      ],
      "source": [
        "# Create DataLoader for training and test sets\n",
        "train_dataset = TensorDataset(X_train, y_train)\n",
        "test_dataset = TensorDataset(X_test, y_test)\n",
        "\n",
        "batch_size = 64\n",
        "train_loader = DataLoader(train_dataset, batch_size=batch_size, shuffle=True)\n",
        "test_loader = DataLoader(test_dataset, batch_size=batch_size, shuffle=False)\n",
        "print('Dataloaders are ready')"
      ]
    },
    {
      "cell_type": "code",
      "execution_count": 135,
      "metadata": {
        "id": "u5cFLtwEp-Ns"
      },
      "outputs": [
        {
          "name": "stdout",
          "output_type": "stream",
          "text": [
            "NN is ready\n"
          ]
        }
      ],
      "source": [
        "# Creating a neural network\n",
        "class SensitivityPredictor(nn.Module):\n",
        "    def __init__(self, input_size):\n",
        "        super(SensitivityPredictor, self).__init__()\n",
        "        self.fc1 = nn.Linear(input_size, 128)\n",
        "        self.relu = nn.ReLU()\n",
        "        self.fc2 = nn.Linear(128, 1)  # In this case, the output will be a single number (sensitivity prediction)\n",
        "\n",
        "    def forward(self, x):\n",
        "        x = self.fc1(x)\n",
        "        x = self.relu(x)\n",
        "        x = self.fc2(x)\n",
        "        return x\n",
        "    \n",
        "print('NN is ready')"
      ]
    },
    {
      "cell_type": "code",
      "execution_count": 136,
      "metadata": {
        "colab": {
          "base_uri": "https://localhost:8080/"
        },
        "id": "Cs2VUDRMqAtP",
        "outputId": "6eedc7e9-21f7-4227-b19c-0d5d8db5c843"
      },
      "outputs": [
        {
          "name": "stdout",
          "output_type": "stream",
          "text": [
            "cuda is ready\n"
          ]
        }
      ],
      "source": [
        "# Initialize the model and select the device (GPU or CPU)\n",
        "model = SensitivityPredictor(input_size=24156)\n",
        "model.to(device)\n",
        "\n",
        "print(f\"{device} is ready\")"
      ]
    },
    {
      "cell_type": "code",
      "execution_count": 137,
      "metadata": {
        "id": "KPq977jEqVVZ"
      },
      "outputs": [
        {
          "name": "stdout",
          "output_type": "stream",
          "text": [
            "Loss criterion and optimizer are ready\n"
          ]
        }
      ],
      "source": [
        "# Define loss function and optimizer\n",
        "criterion = nn.MSELoss()\n",
        "optimizer = torch.optim.Adam(model.parameters(), lr=0.001)\n",
        "print('Loss criterion and optimizer are ready')"
      ]
    },
    {
      "cell_type": "code",
      "execution_count": 138,
      "metadata": {
        "colab": {
          "base_uri": "https://localhost:8080/"
        },
        "id": "bgxjvXjHrkjO",
        "outputId": "a3b1f588-1aee-4416-bd43-5805830c41c3"
      },
      "outputs": [
        {
          "name": "stdout",
          "output_type": "stream",
          "text": [
            "Epoch [10/100] Loss: 0.14316710208853087\n",
            "Epoch [20/100] Loss: 0.06827719807624817\n",
            "Epoch [30/100] Loss: 0.035607496990511814\n",
            "Epoch [40/100] Loss: 0.018515790230594575\n",
            "Epoch [50/100] Loss: 0.014717162190936505\n",
            "Epoch [60/100] Loss: 0.012093068131556113\n",
            "Epoch [70/100] Loss: 0.010930910407720755\n",
            "Epoch [80/100] Loss: 0.010513006383553148\n",
            "Epoch [90/100] Loss: 0.011398008562779675\n",
            "Epoch [100/100] Loss: 0.017419350193813445\n",
            "\n",
            "Training is finished\n"
          ]
        }
      ],
      "source": [
        "# Model training\n",
        "num_epochs = 100\n",
        "for epoch in range(num_epochs):\n",
        "    model.train()\n",
        "    total_loss = 0.0\n",
        "    for inputs, labels in train_loader:\n",
        "        inputs, labels = inputs.to(device), labels.to(device)\n",
        "        optimizer.zero_grad()\n",
        "        outputs = model(inputs)\n",
        "        loss = criterion(outputs, labels.view(-1, 1))\n",
        "        loss.backward()\n",
        "        optimizer.step()\n",
        "        total_loss += loss.item()\n",
        "    \n",
        "    # Display information about the learning process\n",
        "    if (epoch + 1) % 10 == 0:\n",
        "        print(f\"Epoch [{epoch+1}/{num_epochs}] Loss: {total_loss / len(train_loader)}\")\n",
        "\n",
        "print('\\nTraining is finished')"
      ]
    },
    {
      "cell_type": "code",
      "execution_count": 139,
      "metadata": {
        "colab": {
          "base_uri": "https://localhost:8080/"
        },
        "id": "FfTA6mttqmQk",
        "outputId": "e45adb7b-edaf-4b2b-d6bd-c45d139cfc51"
      },
      "outputs": [
        {
          "name": "stdout",
          "output_type": "stream",
          "text": [
            "Root Mean Square Error (RMSE): 0.5127344422924256\n"
          ]
        }
      ],
      "source": [
        "# Assessing the accuracy of the model on the test set\n",
        "model.eval()\n",
        "true_values = []  # List to store true values\n",
        "predicted_values = []  # List to store predicted values\n",
        "\n",
        "with torch.no_grad():\n",
        "    test_loss = 0.0\n",
        "    for inputs, labels in test_loader:\n",
        "        inputs, labels = inputs.to(device), labels.to(device)\n",
        "        outputs = model(inputs)\n",
        "\n",
        "        # Adding true and predicted values ​​to lists\n",
        "        true_values.extend(labels.view(-1).cpu().numpy())\n",
        "        predicted_values.extend(outputs.view(-1).cpu().numpy())\n",
        "\n",
        "        test_loss += criterion(outputs, labels.view(-1, 1)).item()\n",
        "\n",
        "# Calculate RMSE\n",
        "rmse = np.sqrt(test_loss / len(test_loader))\n",
        "print(f\"Root Mean Square Error (RMSE): {rmse}\")"
      ]
    },
    {
      "cell_type": "code",
      "execution_count": 140,
      "metadata": {},
      "outputs": [
        {
          "name": "stdout",
          "output_type": "stream",
          "text": [
            "Difference between the maximum and minimum true_values: 8.452\n",
            "Difference between the maximum and minimum predicted_values: 6.180\n",
            "Case_1: (-0.657, -0.286)\n",
            "Case_2: (0.270, 0.340)\n",
            "Case_3: (1.194, 0.315)\n",
            "Case_4: (0.131, 0.577)\n",
            "Case_5: (0.129, -0.331)\n",
            "Case_6: (-0.095, -0.142)\n",
            "Case_7: (0.095, -0.063)\n",
            "Case_8: (-0.354, -0.309)\n",
            "Case_9: (0.060, 0.177)\n",
            "Case_10: (-0.336, -0.353)\n"
          ]
        }
      ],
      "source": [
        "# Find the maximum and minimum values for true_values and predicted_values\n",
        "diff_true_values = max(true_values) - min(true_values)\n",
        "diff_predicted_values = max(predicted_values) - min(predicted_values)\n",
        "\n",
        "# Print the results\n",
        "print(f\"Difference between the maximum and minimum true_values: {diff_true_values:.3f}\")\n",
        "print(f\"Difference between the maximum and minimum predicted_values: {diff_predicted_values:.3f}\")\n",
        "\n",
        "full_length = len(true_values)\n",
        "your_length = 10 # Enter the value\n",
        "\n",
        "for i in range(your_length): # Enter full_length or your_length\n",
        "    print(f\"Case_{i + 1}: ({true_values[i]:.3f}, {predicted_values[i]:.3f})\")"
      ]
    },
    {
      "cell_type": "code",
      "execution_count": 148,
      "metadata": {},
      "outputs": [
        {
          "name": "stdout",
          "output_type": "stream",
          "text": [
            "RMSE: 0.5139206504027659\n"
          ]
        }
      ],
      "source": [
        "# Just another RMSE code\n",
        "squared_differences = [(a - b) ** 2 for a, b in zip(true_values, predicted_values)]\n",
        "mean_squared_difference = sum(squared_differences) / len(squared_differences)\n",
        "rmse = mean_squared_difference ** 0.5\n",
        "\n",
        "print(\"RMSE:\", rmse)\n"
      ]
    }
  ],
  "metadata": {
    "accelerator": "GPU",
    "colab": {
      "gpuType": "T4",
      "provenance": []
    },
    "kernelspec": {
      "display_name": "Python 3",
      "name": "python3"
    },
    "language_info": {
      "codemirror_mode": {
        "name": "ipython",
        "version": 3
      },
      "file_extension": ".py",
      "mimetype": "text/x-python",
      "name": "python",
      "nbconvert_exporter": "python",
      "pygments_lexer": "ipython3",
      "version": "3.10.11"
    }
  },
  "nbformat": 4,
  "nbformat_minor": 0
}
